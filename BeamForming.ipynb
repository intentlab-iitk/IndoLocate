{
 "cells": [
  {
   "cell_type": "markdown",
   "metadata": {},
   "source": [
    "# BeamForming"
   ]
  },
  {
   "cell_type": "code",
   "execution_count": 1,
   "metadata": {
    "tags": [
     "parameters"
    ]
   },
   "outputs": [],
   "source": [
    "# Imports\n",
    "import h5py\n",
    "import indolocate\n",
    "import pandas as pd\n",
    "import numpy as np\n",
    "import matplotlib.pyplot as plt\n",
    "\n",
    "# Dataset (WILD v2): https://www.kaggle.com/c/wild-v2\n",
    "WILD_Dataset = \"/mnt/LabData/datasets/indoor_localization/wild-v2/training_data_env1.h5\"\n",
    "dataset = h5py.File(WILD_Dataset, \"r\")\n",
    "\n",
    "# Data initilization\n",
    "csi_real = np.array(dataset[\"channels/real\"])   # (6, 4, 234, 17276) -> (AP, Anteena, subcarrrier, real_csi)\n",
    "csi_imag = np.array(dataset[\"channels/imag\"])   # (6, 4, 234, 17276) -> (AP, Anteena, subcarrrier, imag_csi)\n",
    "rssi_data = np.array(dataset[\"rssi\"])           # (6, 17276)    -> (AP's RSSI, samples)\n",
    "ap_locs = np.array(dataset[\"AP_locs\"])          # (2, 4, 6)     -> (AP's Postion, Antenna, AP)\n",
    "true_locs = np.array(dataset[\"labels\"])         # (2, 17276)    -> (Target's Postion, samples)\n",
    "d = np.array(dataset[\"opt/ANT_SEP\"]).flatten()[0]\n",
    "f = np.array(dataset[\"opt/CENTER_FREQ\"]).flatten()[0]\n",
    "bw = np.array(dataset[\"opt/BW\"]).flatten()[0]\n",
    "\n",
    "# Parameter initilization\n",
    "csi_data = csi_real + 1j*csi_imag                           # shape (6, 4, 234, 17276)  -> (AP, Anteena, subcarrrier, csi)\n",
    "ap_pos = np.mean(ap_locs, axis=1).T                         # Shape (6, 2)              -> (AP, (x, y))\n",
    "true_pos = true_locs.T                                      # Shape (17276, 2)          -> (samples, (x, y))\n",
    "pred_pos = np.zeros(true_pos.shape)                         # Shape (17276, 2)          -> (samples, (x, y))\n",
    "aoa_final = np.zeros((true_pos.shape[0], ap_pos.shape[0]))   # shape (17276, 6)          -> (samples, (AoA))\n"
   ]
  },
  {
   "cell_type": "code",
   "execution_count": null,
   "metadata": {},
   "outputs": [],
   "source": [
    "# =======================\n",
    "# AoA Calculation (Mean)\n",
    "# =======================\n",
    "\n",
    "# Compute phase\n",
    "phase = np.angle(csi_data)  # Shape: (6, 4, 234, 17276)\n",
    "\n",
    "# Compute phase differences between adjacent antennas in range [-π, π]\n",
    "delta_phase = (np.diff(phase, axis=1) + np.pi) % (2 * np.pi) - np.pi  # Shape: (6, 3, 234, 17276)\n",
    "\n",
    "# Compute AoA (in radians)\n",
    "aoa = np.arcsin(delta_phase / np.pi)  # Shape: (6, 3, 234, 17276)\n",
    "\n",
    "# Average over antennas and subcarriers\n",
    "aoa_final = np.mean(aoa, axis=(1, 2)).T  # Shape: (17276, 6)"
   ]
  },
  {
   "cell_type": "code",
   "execution_count": 3,
   "metadata": {},
   "outputs": [
    {
     "name": "stderr",
     "output_type": "stream",
     "text": [
      "/tmp/ipykernel_115985/1717659226.py:13: DeprecationWarning: Conversion of an array with ndim > 0 to a scalar is deprecated, and will error in future. Ensure you extract a single element from your array before performing this operation. (Deprecated NumPy 1.25.)\n",
      "  aoa_final[sample, ap], _ = indolocate.beamformers.apply_MUSIC(csi_matrix, d, f, 1)\n"
     ]
    }
   ],
   "source": [
    "# ===============================================\n",
    "# AoA Calculation (MUSIC)\n",
    "# ===============================================\n",
    "\n",
    "# Loop over CSI samples\n",
    "for sample in range(csi_data.shape[3]):  \n",
    "    # Loop over Access Points (APs)\n",
    "    for ap in range(csi_data.shape[0]):  \n",
    "        # Extract CSI matrix for the given AP and sample (Antenna × Subcarrier)\n",
    "        csi_matrix = csi_data[ap, :, :, sample]  # Shape: (4, 234)\n",
    "        \n",
    "        # Apply MUSIC algorithm to get the single AoA value\n",
    "        aoa_final[sample, ap], _ = indolocate.beamformers.apply_MUSIC(csi_matrix, d, f, 1)  "
   ]
  },
  {
   "cell_type": "code",
   "execution_count": 4,
   "metadata": {},
   "outputs": [],
   "source": [
    "# ===============================================\n",
    "# Position Estimation (Least Squares)\n",
    "# ===============================================\n",
    "\n",
    "# Compute least squares for each sample\n",
    "for i in range(aoa_final.shape[0]):  \n",
    "    tan_theta = np.tan(np.radians(aoa_final[i, :]))  # Convert to radians, Shape: (6,)\n",
    "\n",
    "    # Construct Q and F matrices\n",
    "    Q = np.column_stack([tan_theta, -np.ones_like(tan_theta)])  # Shape: (6, 2)\n",
    "    F = ap_pos[:, 0] * tan_theta - ap_pos[:, 1]  # Shape: (6,)\n",
    "\n",
    "    # Solve least squares: X = (Q^T Q)^(-1) Q^T F\n",
    "    pred_pos[i] = np.linalg.pinv(Q.T @ Q) @ Q.T @ F  # Shape: (2,)"
   ]
  },
  {
   "cell_type": "code",
   "execution_count": 5,
   "metadata": {},
   "outputs": [
    {
     "name": "stdout",
     "output_type": "stream",
     "text": [
      "Time Step |  True Position (x, y)  |  Estimated Position (x, y)\n",
      "---------------------------------------------------------------\n",
      "        0 | (     6.80,    -14.17) | (     7.91,     -1.91)\n",
      "        1 | (     6.29,     -6.12) | (    -4.04,     -0.00)\n",
      "        2 | (     7.07,     -0.14) | (    -0.62,     -1.54)\n",
      "        3 | (     7.18,     -7.30) | (    11.18,     -7.40)\n",
      "        4 | (     6.19,    -13.93) | (    11.09,     -6.04)\n",
      "        5 | (     0.61,     -1.95) | (     6.77,      0.00)\n",
      "        6 | (    -3.72,      0.06) | (    17.54,     -0.00)\n",
      "        7 | (     7.32,     -7.98) | (    -7.40,     -2.85)\n",
      "        8 | (     6.29,      0.53) | (    17.54,      0.00)\n",
      "        9 | (     7.13,     -4.66) | (    -9.56,    -13.65)\n",
      "       10 | (     3.18,    -14.65) | (    17.18,     -0.00)\n",
      "       11 | (     9.96,      0.50) | (    17.54,     -0.00)\n",
      "       12 | (     7.06,      1.56) | (    -5.10,     -5.46)\n",
      "       13 | (     3.84,      1.02) | (     6.77,     -0.00)\n",
      "       14 | (     2.32,     -2.27) | (    -4.50,     -0.54)\n",
      "       15 | (     6.60,    -13.35) | (    -4.53,      0.00)\n",
      "       16 | (     4.78,      0.66) | (     5.31,     -6.85)\n",
      "       17 | (     0.65,    -14.64) | (     4.91,      0.00)\n",
      "       18 | (     6.86,     -4.18) | (     6.77,      0.00)\n",
      "       19 | (    -3.78,      0.80) | (    12.02,     -5.05)\n",
      "\n",
      "[#] Median Localization Error: 11.13 m\n",
      "[#] P-80th Localization Error: 16.21 m\n"
     ]
    }
   ],
   "source": [
    "# =========================\n",
    "# Display Results\n",
    "# =========================\n",
    "\n",
    "print(\"Time Step |  True Position (x, y)  |  Estimated Position (x, y)\")\n",
    "print(\"---------------------------------------------------------------\")\n",
    "for t in range(0, 20):  # Print every 500th time step\n",
    "    true_x, true_y = true_pos[t]\n",
    "    estd_x, estd_y = pred_pos[t]\n",
    "    print(f\"{t:9d} | ({true_x:9.2f}, {true_y:9.2f}) | ({estd_x:9.2f}, {estd_y:9.2f})\")\n",
    "print(\"\")\n",
    "\n",
    "indolocate.evaluate_location(true_pos, pred_pos)\n"
   ]
  },
  {
   "cell_type": "code",
   "execution_count": 6,
   "metadata": {},
   "outputs": [
    {
     "data": {
      "image/png": "[encoded data removed]",
      "text/plain": [
       "<Figure size 600x600 with 1 Axes>"
      ]
     },
     "metadata": {},
     "output_type": "display_data"
    }
   ],
   "source": [
    "import matplotlib.pyplot as plt\n",
    "\n",
    "samples = 10\n",
    "\n",
    "true = true_pos[:samples, :]\n",
    "pred = pred_pos[:samples, :]\n",
    "\n",
    "# Plot AP positions\n",
    "plt.figure(figsize=(6, 6))\n",
    "plt.scatter(ap_pos[:, 0], ap_pos[:, 1], c=\"red\", marker=\"o\", label=\"APs\")  # APs in red circles\n",
    "plt.scatter(true[:, 0], true[:, 1], c=\"green\", marker=\"x\", label=\"True\")   # True positions as green Xs\n",
    "plt.scatter(pred[:, 0], pred[:, 1], c=\"blue\", marker=\"s\", label=\"Pred\")    # Predicted positions as blue squares\n",
    "\n",
    "\n",
    "plt.xlabel(\"X Position\")\n",
    "plt.ylabel(\"Y Position\")\n",
    "plt.title(\"Indoor Localization\")\n",
    "plt.xlim(-10, 20)\n",
    "plt.ylim(-20, 8)  # Fixed axis ordering\n",
    "plt.legend()\n",
    "plt.grid(True)\n",
    "\n",
    "# Annotate AP numbers\n",
    "for i, (x, y) in enumerate(ap_pos):\n",
    "    plt.text(x, y, f\"AP{i+1}\", fontsize=12, ha=\"right\", va=\"bottom\", color=\"black\")\n",
    "\n",
    "plt.show()"
   ]
  }
 ],
 "metadata": {
  "kernelspec": {
   "display_name": "indolocate",
   "language": "python",
   "name": "python3"
  },
  "language_info": {
   "codemirror_mode": {
    "name": "ipython",
    "version": 3
   },
   "file_extension": ".py",
   "mimetype": "text/x-python",
   "name": "python",
   "nbconvert_exporter": "python",
   "pygments_lexer": "ipython3",
   "version": "3.9.21"
  }
 },
 "nbformat": 4,
 "nbformat_minor": 2
}
